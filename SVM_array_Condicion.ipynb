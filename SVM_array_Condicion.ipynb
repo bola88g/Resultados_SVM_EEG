{
 "cells": [
  {
   "cell_type": "code",
   "execution_count": 1,
   "metadata": {},
   "outputs": [],
   "source": [
    "import numpy as np\n",
    "import pandas as pd\n",
    "\n",
    "from os import scandir\n",
    "import random\n",
    "\n",
    "from sklearn.model_selection import train_test_split, GridSearchCV\n",
    "from sklearn import svm"
   ]
  },
  {
   "cell_type": "code",
   "execution_count": 2,
   "metadata": {},
   "outputs": [],
   "source": [
    "rutaASI='C:\\\\Users\\\\boliv\\\\Desktop\\\\Ejercicio_Python\\\\Codigo_MCLJ_PCA\\\\Datos_SAC_LJMC\\\\ASI'\n",
    "rutaCO= \"C:\\\\Users\\\\boliv\\\\Desktop\\\\Ejercicio_Python\\\\Codigo_MCLJ_PCA\\\\Datos_SAC_LJMC\\\\CO\"\n",
    "# función que regresa todos los archivos en la ruta path\n",
    "def dimeArchivos(path): \n",
    "    return [obj.name for obj in scandir(path) if obj.is_file()]\n",
    "\n",
    "#Listas con los nombres de los archivos en la ruta dada\n",
    "ListaArchASI = dimeArchivos(rutaASI)\n",
    "ListaArchCO  = dimeArchivos(rutaCO)\n",
    "\n",
    "#print(len(ListaArchASI))\n",
    "#print(ListaArchASI)\n",
    "\n",
    "#Crea lista con las primeras dos letras de cada archivo, correspodientes a los nombres de los sujetos\n",
    "Name_suj_ASI = [x[0:2] for x in ListaArchASI]\n",
    "Name_suj_CO  = [x[0:2] for x in ListaArchCO]\n",
    "\n",
    "#print(Name_suj)\n",
    "\n",
    "#Crea dict para eliminar duplicados y los convierte en lista\n",
    "Name_suj_ASI = list(dict.fromkeys(Name_suj_ASI)) # ['BG','CR','EN','GF','GV','IF','IM','JE','JU','JV','LM','MI','RB','RR','VC','VV']\n",
    "Name_suj_CO = list(dict.fromkeys(Name_suj_CO))   # ['AG','AS','AZ','BE','CV','EG','GM','GV','LO','LP','LR','MN','MS','PA','TR']\n",
    "\n",
    "#print(Name_suj_ASI,type(Name_suj_ASI))\n",
    "#print(Name_suj_CO, type(Name_suj_CO))\n",
    "\n",
    "#Selecciona aleatoriamente 12 sujetos para crear los conjuntos de prueba\n",
    "CO_15 = sorted(Name_suj_CO)\n",
    "ASI_15 = random.sample(Name_suj_ASI,15)\n",
    "ASI_out = [x for x in Name_suj_ASI if x not in ASI_15]\n",
    "\n",
    "ASI_15=sorted(ASI_15)\n",
    "ASI_out= sorted(ASI_out)"
   ]
  },
  {
   "cell_type": "code",
   "execution_count": 3,
   "metadata": {},
   "outputs": [
    {
     "name": "stdout",
     "output_type": "stream",
     "text": [
      "ASI_15:  ['BG', 'CR', 'EN', 'GF', 'GV', 'IF', 'IM', 'JE', 'JU', 'JV', 'LM', 'MI', 'RB', 'RR', 'VV'] \n",
      " CO_15:  ['AG', 'AS', 'AZ', 'BE', 'CV', 'EG', 'GM', 'GV', 'LO', 'LP', 'LR', 'MN', 'MS', 'PA', 'TR'] \n",
      " ASI_out:  ['VC']\n"
     ]
    }
   ],
   "source": [
    "print('ASI_15: ', ASI_15, '\\n', 'CO_15: ', CO_15, '\\n', 'ASI_out: ', ASI_out)"
   ]
  },
  {
   "cell_type": "code",
   "execution_count": 4,
   "metadata": {},
   "outputs": [],
   "source": [
    "rutas_ASI_OA = [rutaASI+\"\\\\\"+x for x in ListaArchASI if x[0:2] in ASI_15 and x[4:6]== 'OA']\n",
    "rutas_ASI_OC = [rutaASI+\"\\\\\"+x for x in ListaArchASI if x[0:2] in ASI_15 and x[4:6]== 'OC']\n",
    "\n",
    "rutas_CO_OA = [rutaCO+\"\\\\\"+x for x in ListaArchCO if x[0:2] in CO_15 and x[4:6]== 'OA']\n",
    "rutas_CO_OC = [rutaCO+\"\\\\\"+x for x in ListaArchCO if x[0:2] in CO_15 and x[4:6]== 'OA']\n",
    "\n",
    "rutas_ASI_out_OA = [rutaASI+\"\\\\\"+x for x in ListaArchASI if x[0:2] in ASI_out and x[4:6]== 'OA']\n",
    "rutas_ASI_out_OC = [rutaASI+\"\\\\\"+x for x in ListaArchASI if x[0:2] in ASI_out and x[4:6]== 'OC']\n",
    "\n",
    "\n",
    "#print(rutas_ASI_out_OA)"
   ]
  },
  {
   "cell_type": "markdown",
   "metadata": {},
   "source": [
    "#### Arreglo SVM OA:"
   ]
  },
  {
   "cell_type": "code",
   "execution_count": 5,
   "metadata": {},
   "outputs": [
    {
     "name": "stdout",
     "output_type": "stream",
     "text": [
      "(210, 92)\n"
     ]
    }
   ],
   "source": [
    "# Arma arreglo de natriz SAC\n",
    "array_ASI_OA=[]\n",
    "array_CO_OA=[]\n",
    "\n",
    "asi_clase = np.array ([-1])\n",
    "co_clase = np.array ([1])\n",
    "\n",
    "\n",
    "for i in rutas_ASI_OA: # ruta de archivo en conjunto dado\n",
    "    matriz_i = np.loadtxt(open(i))\n",
    "    array_sac=[]\n",
    "    for j in range(len(matriz_i)):\n",
    "        array_sac = np.concatenate((array_sac, matriz_i[j,j+1:]))\n",
    "    array_sac = np.concatenate((array_sac, asi_clase))\n",
    "    array_ASI_OA = np.concatenate((array_ASI_OA,array_sac))\n",
    "\n",
    "array_ASI_OA = array_ASI_OA.reshape(len(ASI_15)*7,92)\n",
    "\n",
    "for i in rutas_CO_OA: # ruta de archivo en conjunto dado\n",
    "    matriz_i = np.loadtxt(open(i))\n",
    "    array_sac=[]\n",
    "    for j in range(len(matriz_i)):\n",
    "        array_sac = np.concatenate((array_sac, matriz_i[j,j+1:]))\n",
    "    array_sac = np.concatenate((array_sac, co_clase))\n",
    "    array_CO_OA = np.concatenate((array_CO_OA,array_sac))\n",
    "\n",
    "array_CO_OA = array_CO_OA.reshape(len(CO_15)*7,92)\n",
    "\n",
    "#print(Arreglo_ASI[209])\n",
    "        \n",
    "SVM_OA = np.concatenate((array_ASI_OA,array_CO_OA), axis=0)\n",
    "print(SVM_OA.shape)\n",
    "\n",
    "\n",
    "#Arreglos ASI para pruebas en 'ciego'\n",
    "SVM_nvo_OA = []\n",
    "for i in rutas_ASI_out_OA: # ruta de archivo en conjunto dado\n",
    "    matriz_i = np.loadtxt(open(i))\n",
    "    array_sac=[]\n",
    "    for j in range(len(matriz_i)):\n",
    "        array_sac = np.concatenate((array_sac, matriz_i[j,j+1:]))\n",
    "    SVM_nvo_OA = np.concatenate((SVM_nvo_OA,array_sac))\n",
    "SVM_nvo_OA = SVM_nvo_OA.reshape(len(ASI_out)*7,91)\n",
    "\n",
    "SVM_nvo_OC = []\n",
    "for i in rutas_ASI_out_OC: # ruta de archivo en conjunto dado\n",
    "    matriz_i = np.loadtxt(open(i))\n",
    "    array_sac=[]\n",
    "    for j in range(len(matriz_i)):\n",
    "        array_sac = np.concatenate((array_sac, matriz_i[j,j+1:]))\n",
    "    SVM_nvo_OC = np.concatenate((SVM_nvo_OC,array_sac))\n",
    "SVM_nvo_OC = SVM_nvo_OC.reshape(len(ASI_out)*7,91)"
   ]
  },
  {
   "cell_type": "markdown",
   "metadata": {},
   "source": [
    "#### Arreglo SVM OC:"
   ]
  },
  {
   "cell_type": "code",
   "execution_count": 6,
   "metadata": {},
   "outputs": [
    {
     "name": "stdout",
     "output_type": "stream",
     "text": [
      "(210, 92)\n"
     ]
    }
   ],
   "source": [
    "# Arma arreglo de natriz SAC\n",
    "array_ASI_OC=[]\n",
    "array_CO_OC=[]\n",
    "\n",
    "asi_clase = np.array ([-1])\n",
    "co_clase = np.array ([1])\n",
    "\n",
    "\n",
    "for i in rutas_ASI_OC: # ruta de archivo en conjunto dado\n",
    "    matriz_i = np.loadtxt(open(i))\n",
    "    array_sac=[]\n",
    "    for j in range(len(matriz_i)):\n",
    "        array_sac = np.concatenate((array_sac, matriz_i[j,j+1:]))\n",
    "    array_sac = np.concatenate((array_sac, asi_clase))\n",
    "    array_ASI_OC = np.concatenate((array_ASI_OC,array_sac))\n",
    "\n",
    "array_ASI_OC = array_ASI_OC.reshape(len(ASI_15)*7,92)\n",
    "\n",
    "for i in rutas_CO_OC: # ruta de archivo en conjunto dado\n",
    "    matriz_i = np.loadtxt(open(i))\n",
    "    array_sac=[]\n",
    "    for j in range(len(matriz_i)):\n",
    "        array_sac = np.concatenate((array_sac, matriz_i[j,j+1:]))\n",
    "    array_sac = np.concatenate((array_sac, co_clase))\n",
    "    array_CO_OC = np.concatenate((array_CO_OC,array_sac))\n",
    "\n",
    "array_CO_OC = array_CO_OC.reshape(len(CO_15)*7,92)\n",
    "\n",
    "#print(Arreglo_ASI[209])\n",
    "        \n",
    "SVM_OC = np.concatenate((array_ASI_OC,array_CO_OC), axis=0)\n",
    "print(SVM_OC.shape)\n"
   ]
  },
  {
   "cell_type": "code",
   "execution_count": null,
   "metadata": {},
   "outputs": [],
   "source": []
  },
  {
   "cell_type": "code",
   "execution_count": 7,
   "metadata": {},
   "outputs": [],
   "source": [
    "#Separación conjuntos entrenamiento/prueba\n",
    "#Train_test_split OA\n",
    "X_train_OA, X_test_OA, y_train_OA, y_test_OA = train_test_split(SVM_OA[:,0:91], SVM_OA[:,-1], test_size = 0.2, random_state=0)\n",
    "\n",
    "#Train_test_split OC\n",
    "X_train_OC, X_test_OC, y_train_OC, y_test_OC = train_test_split(SVM_OC[:,0:91], SVM_OC[:,-1], test_size = 0.2, random_state=0)"
   ]
  },
  {
   "cell_type": "code",
   "execution_count": 8,
   "metadata": {},
   "outputs": [
    {
     "name": "stdout",
     "output_type": "stream",
     "text": [
      "Train_Set OA:  (168, 91) (168,)\n",
      "Test_Set OA:  (42, 91) (42,) \n",
      "\n",
      "Train_Set OC:  (168, 91) (168,)\n",
      "Test_Set OC:  (42, 91) (42,)\n"
     ]
    }
   ],
   "source": [
    "print('Train_Set OA: ',X_train_OA.shape, y_train_OA.shape)\n",
    "\n",
    "print('Test_Set OA: ',X_test_OA.shape, y_test_OA.shape,'\\n')\n",
    "\n",
    "print('Train_Set OC: ',X_train_OC.shape, y_train_OC.shape)\n",
    "\n",
    "print('Test_Set OC: ',X_test_OC.shape, y_test_OC.shape)"
   ]
  },
  {
   "cell_type": "code",
   "execution_count": 9,
   "metadata": {},
   "outputs": [],
   "source": [
    "#Intervalo de parámetros\n",
    "param_grid = {'C': [0.1, 1, 10, 100], 'gamma': [1, 0.1, 0.01, 0.001, 0.00001, 10]}"
   ]
  },
  {
   "cell_type": "code",
   "execution_count": 10,
   "metadata": {},
   "outputs": [],
   "source": [
    "clf_grid = GridSearchCV(svm.SVC(), param_grid, verbose=1)"
   ]
  },
  {
   "cell_type": "code",
   "execution_count": 11,
   "metadata": {},
   "outputs": [
    {
     "name": "stderr",
     "output_type": "stream",
     "text": [
      "C:\\Users\\boliv\\Anaconda3\\lib\\site-packages\\sklearn\\model_selection\\_split.py:1978: FutureWarning: The default value of cv will change from 3 to 5 in version 0.22. Specify it explicitly to silence this warning.\n",
      "  warnings.warn(CV_WARNING, FutureWarning)\n",
      "[Parallel(n_jobs=1)]: Using backend SequentialBackend with 1 concurrent workers.\n"
     ]
    },
    {
     "name": "stdout",
     "output_type": "stream",
     "text": [
      "Fitting 3 folds for each of 24 candidates, totalling 72 fits\n"
     ]
    },
    {
     "name": "stderr",
     "output_type": "stream",
     "text": [
      "[Parallel(n_jobs=1)]: Done  72 out of  72 | elapsed:    0.1s finished\n",
      "C:\\Users\\boliv\\Anaconda3\\lib\\site-packages\\sklearn\\model_selection\\_split.py:1978: FutureWarning: The default value of cv will change from 3 to 5 in version 0.22. Specify it explicitly to silence this warning.\n",
      "  warnings.warn(CV_WARNING, FutureWarning)\n",
      "[Parallel(n_jobs=1)]: Using backend SequentialBackend with 1 concurrent workers.\n"
     ]
    },
    {
     "name": "stdout",
     "output_type": "stream",
     "text": [
      "Fitting 3 folds for each of 24 candidates, totalling 72 fits\n",
      "Best Parameters OA:\n",
      " {'C': 10, 'gamma': 0.1}\n",
      "Best Estimators OA:\n",
      " SVC(C=10, cache_size=200, class_weight=None, coef0=0.0,\n",
      "    decision_function_shape='ovr', degree=3, gamma=0.1, kernel='rbf',\n",
      "    max_iter=-1, probability=False, random_state=None, shrinking=True,\n",
      "    tol=0.001, verbose=False)\n",
      "Best Parameters OC:\n",
      " {'C': 10, 'gamma': 0.1}\n",
      "Best Estimators OC:\n",
      " SVC(C=10, cache_size=200, class_weight=None, coef0=0.0,\n",
      "    decision_function_shape='ovr', degree=3, gamma=0.1, kernel='rbf',\n",
      "    max_iter=-1, probability=False, random_state=None, shrinking=True,\n",
      "    tol=0.001, verbose=False)\n"
     ]
    },
    {
     "name": "stderr",
     "output_type": "stream",
     "text": [
      "[Parallel(n_jobs=1)]: Done  72 out of  72 | elapsed:    0.1s finished\n"
     ]
    }
   ],
   "source": [
    "# Se buscan los mejores parámetros para los conjuntos de entrenamiento\n",
    "clf_grid_OA = clf_grid.fit(X_train_OA, y_train_OA)\n",
    "clf_grid_OC = clf_grid.fit(X_train_OC, y_train_OC)\n",
    "\n",
    "print(\"Best Parameters OA:\\n\", clf_grid_OA.best_params_)\n",
    "print(\"Best Estimators OA:\\n\", clf_grid_OA.best_estimator_)\n",
    "\n",
    "\n",
    "print(\"Best Parameters OC:\\n\", clf_grid_OC.best_params_)\n",
    "print(\"Best Estimators OC:\\n\", clf_grid_OC.best_estimator_)"
   ]
  },
  {
   "cell_type": "code",
   "execution_count": 13,
   "metadata": {},
   "outputs": [
    {
     "data": {
      "text/plain": [
       "SVC(C=10, cache_size=200, class_weight=None, coef0=0.0,\n",
       "    decision_function_shape='ovr', degree=3, gamma=0.1, kernel='rbf',\n",
       "    max_iter=-1, probability=False, random_state=None, shrinking=True,\n",
       "    tol=0.001, verbose=False)"
      ]
     },
     "execution_count": 13,
     "metadata": {},
     "output_type": "execute_result"
    }
   ],
   "source": [
    "#Se ajusta el clasificador con los mejores parámetros encontrados\n",
    "clf_OA = svm.SVC(kernel='rbf', C=10, gamma=0.1)\n",
    "clf_OA.fit(X_train_OA,y_train_OA)\n",
    "\n",
    "clf_OC = svm.SVC(kernel='rbf', C=10, gamma=0.1)\n",
    "clf_OC.fit(X_train_OC,y_train_OC)"
   ]
  },
  {
   "cell_type": "code",
   "execution_count": 14,
   "metadata": {},
   "outputs": [
    {
     "name": "stdout",
     "output_type": "stream",
     "text": [
      "Accuracy OA: 95.23809523809523%\n",
      "Accuracy OC: 97.61904761904762%\n"
     ]
    }
   ],
   "source": [
    "# Se realizan las predicciones en conjuntos de prueba\n",
    "clf_predictions_OA = clf_OA.predict(X_test_OA)\n",
    "print(\"Accuracy OA: {0:.2F}%\".format(clf_OA.score(X_test_OA, y_test_OA) * 100 ))\n",
    "\n",
    "clf_predictions_OC = clf_OC.predict(X_test_OC)\n",
    "print(\"Accuracy OC: {0:.2F}%\".format(clf_OC.score(X_test_OC, y_test_OC) * 100 ))"
   ]
  },
  {
   "cell_type": "markdown",
   "metadata": {},
   "source": [
    "#### Módulo CrossValidation"
   ]
  },
  {
   "cell_type": "code",
   "execution_count": 15,
   "metadata": {},
   "outputs": [
    {
     "name": "stdout",
     "output_type": "stream",
     "text": [
      "[0.5        0.91666667 0.91666667 0.91666667 1.         1.\n",
      " 1.         1.         1.         0.8        1.         1.\n",
      " 1.         1.         1.         1.         1.         1.\n",
      " 1.         0.9       ]\n",
      "[0.91666667 0.83333333 0.91666667 0.91666667 1.         0.8\n",
      " 1.         1.         1.         1.         1.         0.9\n",
      " 1.         1.         1.         1.         1.         1.\n",
      " 1.         0.7       ]\n",
      "Accuracy_OA: 94.75% (+/- 0.23%)\n",
      "Accuracy_OC: 94.92% (+/- 0.17%)\n"
     ]
    }
   ],
   "source": [
    "from sklearn.model_selection import cross_val_score\n",
    "\n",
    "# Separa los datos, ajusta el modelo, y calcula la precisión \"cv\" veces\n",
    "clf_predictions_OA_2 = cross_val_score(clf_OA, SVM_OA[:,0:91], SVM_OA[:,-1], cv=20)\n",
    "print(clf_predictions_OA_2)\n",
    "clf_predictions_OC_2 = cross_val_score(clf_OC, SVM_OC[:,0:91], SVM_OC[:,-1], cv=20)\n",
    "print(clf_predictions_OC_2)\n",
    "\n",
    "#Cálculo de la media de las predicciones obtenidas\n",
    "print(\"Accuracy_OA: {0:.2F}%\".format((clf_predictions_OA_2.mean())*100),\"(+/- {0:0.2f}%)\".format(clf_predictions_OA_2.std() * 2))\n",
    "print(\"Accuracy_OC: {0:.2F}%\".format((clf_predictions_OC_2.mean())*100),\"(+/- {0:0.2f}%)\".format(clf_predictions_OC_2.std() * 2))\n",
    "\n",
    "#print(\"Accuracy_OA: %0.2f (+/- %0.2f) \" % (clf_predictions_OC_2.mean(), clf_predictions_OC_2.std() * 2))"
   ]
  },
  {
   "cell_type": "markdown",
   "metadata": {},
   "source": [
    "#### Predicciones en sujeto ASI fuera del conjunto de entrenamiento y prueba\n",
    "##### Prueba en 'ciego"
   ]
  },
  {
   "cell_type": "code",
   "execution_count": 17,
   "metadata": {},
   "outputs": [
    {
     "name": "stdout",
     "output_type": "stream",
     "text": [
      "Predicción nuevo_OA:  [ 1. -1. -1.  1.  1. -1.  1.]\n",
      "Predicción nuevo_OC:  [-1. -1. -1. -1.  1. -1. -1.]\n"
     ]
    }
   ],
   "source": [
    "clf_nvo_OA = clf_OA.predict(SVM_nvo_OA)\n",
    "clf_nvo_OC = clf_OC.predict(SVM_nvo_OC)\n",
    "\n",
    "print('Predicción nuevo_OA: ', clf_nvo_OA)\n",
    "print('Predicción nuevo_OC: ', clf_nvo_OC)"
   ]
  },
  {
   "cell_type": "code",
   "execution_count": null,
   "metadata": {},
   "outputs": [],
   "source": []
  },
  {
   "cell_type": "code",
   "execution_count": null,
   "metadata": {},
   "outputs": [],
   "source": []
  },
  {
   "cell_type": "code",
   "execution_count": null,
   "metadata": {},
   "outputs": [],
   "source": []
  }
 ],
 "metadata": {
  "kernelspec": {
   "display_name": "Python 3",
   "language": "python",
   "name": "python3"
  },
  "language_info": {
   "codemirror_mode": {
    "name": "ipython",
    "version": 3
   },
   "file_extension": ".py",
   "mimetype": "text/x-python",
   "name": "python",
   "nbconvert_exporter": "python",
   "pygments_lexer": "ipython3",
   "version": "3.7.3"
  }
 },
 "nbformat": 4,
 "nbformat_minor": 4
}
