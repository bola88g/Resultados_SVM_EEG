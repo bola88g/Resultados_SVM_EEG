{
 "cells": [
  {
   "cell_type": "code",
   "execution_count": 1,
   "metadata": {},
   "outputs": [],
   "source": [
    "import numpy as np\n",
    "import pandas as pd\n",
    "\n",
    "from os import scandir\n",
    "import random\n",
    "\n",
    "from sklearn.model_selection import train_test_split, GridSearchCV\n",
    "from sklearn import svm"
   ]
  },
  {
   "cell_type": "code",
   "execution_count": 2,
   "metadata": {},
   "outputs": [],
   "source": [
    "rutaASI='C:\\\\Users\\\\boliv\\\\Desktop\\\\Ejercicio_Python\\\\Codigo_MCLJ_PCA\\\\Datos_SAC_LJMC\\\\ASI'\n",
    "rutaCO= \"C:\\\\Users\\\\boliv\\\\Desktop\\\\Ejercicio_Python\\\\Codigo_MCLJ_PCA\\\\Datos_SAC_LJMC\\\\CO\"\n",
    "# función que regresa todos los archivos en la ruta path\n",
    "def dimeArchivos(path): \n",
    "    return [obj.name for obj in scandir(path) if obj.is_file()]\n",
    "\n",
    "#Listas con los nombres de los archivos en la ruta dada\n",
    "ListaArchASI = dimeArchivos(rutaASI)\n",
    "ListaArchCO  = dimeArchivos(rutaCO)\n",
    "\n",
    "#print(len(ListaArchASI))\n",
    "#print(ListaArchASI)\n",
    "\n",
    "#Crea lista con las primeras dos letras de cada archivo, correspodientes a los nombres de los sujetos\n",
    "Name_suj_ASI = [x[0:2] for x in ListaArchASI]\n",
    "Name_suj_CO  = [x[0:2] for x in ListaArchCO]\n",
    "\n",
    "#print(Name_suj)\n",
    "\n",
    "#Crea dict para eliminar duplicados y los convierte en lista\n",
    "Name_suj_ASI = list(dict.fromkeys(Name_suj_ASI)) # ['BG','CR','EN','GF','GV','IF','IM','JE','JU','JV','LM','MI','RB','RR','VC','VV']\n",
    "Name_suj_CO = list(dict.fromkeys(Name_suj_CO))   # ['AG','AS','AZ','BE','CV','EG','GM','GV','LO','LP','LR','MN','MS','PA','TR']\n",
    "\n",
    "#print(Name_suj_ASI,type(Name_suj_ASI))\n",
    "#print(Name_suj_CO, type(Name_suj_CO))\n",
    "\n",
    "#Selecciona aleatoriamente 12 sujetos para crear los conjuntos de prueba\n",
    "CO_15 = sorted(Name_suj_CO)\n",
    "ASI_15 = random.sample(Name_suj_ASI,15)\n",
    "ASI_out = [x for x in Name_suj_ASI if x not in ASI_15]\n",
    "\n",
    "ASI_15=sorted(ASI_15)\n",
    "ASI_out= sorted(ASI_out)"
   ]
  },
  {
   "cell_type": "code",
   "execution_count": 3,
   "metadata": {},
   "outputs": [
    {
     "name": "stdout",
     "output_type": "stream",
     "text": [
      "['BG', 'CR', 'EN', 'GF', 'GV', 'IF', 'IM', 'JE', 'JU', 'JV', 'LM', 'MI', 'RB', 'VC', 'VV']\n",
      "['AG', 'AS', 'AZ', 'BE', 'CV', 'EG', 'GM', 'GV', 'LO', 'LP', 'LR', 'MN', 'MS', 'PA', 'TR']\n",
      "['RR']\n"
     ]
    }
   ],
   "source": [
    "print(ASI_15)\n",
    "print(CO_15)\n",
    "print(ASI_out)"
   ]
  },
  {
   "cell_type": "code",
   "execution_count": 4,
   "metadata": {},
   "outputs": [],
   "source": [
    "#Lista de las rutas de los archivos por conjunto (train/test)\n",
    "Rutas_ASI_15 = [rutaASI+\"\\\\\"+x for x in ListaArchASI if x[0:2] in     ASI_15]\n",
    "Rutas_ASI_out  = [rutaASI+\"\\\\\"+x for x in ListaArchASI if x[0:2] not in ASI_15]\n",
    "Rutas_CO_15  = [rutaCO+\"\\\\\"+x  for x in ListaArchCO  if x[0:2] in     CO_15]\n",
    "\n",
    "#for i in range (len(Rutas_ASI_out)):\n",
    "#    print(Rutas_ASI_out[i])"
   ]
  },
  {
   "cell_type": "code",
   "execution_count": 5,
   "metadata": {},
   "outputs": [
    {
     "name": "stdout",
     "output_type": "stream",
     "text": [
      "(420, 92)\n"
     ]
    }
   ],
   "source": [
    "# Arma arreglo de natriz SAC\n",
    "Arreglo_ASI=[]\n",
    "Arreglo_CO=[]\n",
    "\n",
    "asi_clase = np.array ([-1])\n",
    "co_clase = np.array ([1])\n",
    "\n",
    "\n",
    "for i in Rutas_ASI_15: # ruta de archivo en conjunto dado\n",
    "    matriz_i = np.loadtxt(open(i))\n",
    "    array_sac=[]\n",
    "    for j in range(len(matriz_i)):\n",
    "        array_sac = np.concatenate((array_sac, matriz_i[j,j+1:]))\n",
    "    array_sac = np.concatenate((array_sac, asi_clase))\n",
    "    Arreglo_ASI = np.concatenate((Arreglo_ASI,array_sac))\n",
    "\n",
    "Arreglo_ASI = Arreglo_ASI.reshape(len(ASI_15)*14,92)\n",
    "\n",
    "for i in Rutas_CO_15: # ruta de archivo en conjunto dado\n",
    "    matriz_i = np.loadtxt(open(i))\n",
    "    array_sac=[]\n",
    "    for j in range(len(matriz_i)):\n",
    "        array_sac = np.concatenate((array_sac, matriz_i[j,j+1:]))\n",
    "    array_sac = np.concatenate((array_sac, co_clase))\n",
    "    Arreglo_CO = np.concatenate((Arreglo_CO,array_sac))\n",
    "\n",
    "Arreglo_CO = Arreglo_CO.reshape(len(CO_15)*14,92)\n",
    "\n",
    "#print(Arreglo_ASI[209])\n",
    "        \n",
    "Array_SVM = np.concatenate((Arreglo_ASI,Arreglo_CO), axis=0)\n",
    "print(Array_SVM.shape)\n"
   ]
  },
  {
   "cell_type": "code",
   "execution_count": 6,
   "metadata": {},
   "outputs": [],
   "source": [
    "#Separación conjuntos entrenamiento/prueba\n",
    "X_train, X_test, y_train, y_test = train_test_split(Array_SVM[:,0:91], Array_SVM[:,-1], test_size = 0.2, random_state=0)"
   ]
  },
  {
   "cell_type": "code",
   "execution_count": 7,
   "metadata": {},
   "outputs": [
    {
     "name": "stdout",
     "output_type": "stream",
     "text": [
      "Train_Set:  (336, 91) (336,)\n",
      "Test_Set:  (84, 91) (84,)\n"
     ]
    }
   ],
   "source": [
    "print('Train_Set: ',X_train.shape, y_train.shape)\n",
    "\n",
    "print('Test_Set: ',X_test.shape, y_test.shape)"
   ]
  },
  {
   "cell_type": "code",
   "execution_count": 8,
   "metadata": {},
   "outputs": [],
   "source": [
    "#Intervalo de parámetros\n",
    "param_grid = {'C': [0.1, 1, 10, 100], 'gamma': [1, 0.1, 0.01, 0.001, 0.00001, 10]}"
   ]
  },
  {
   "cell_type": "code",
   "execution_count": 9,
   "metadata": {},
   "outputs": [],
   "source": [
    "clf_grid = GridSearchCV(svm.SVC(), param_grid, verbose=1)"
   ]
  },
  {
   "cell_type": "code",
   "execution_count": 10,
   "metadata": {},
   "outputs": [
    {
     "name": "stderr",
     "output_type": "stream",
     "text": [
      "C:\\Users\\boliv\\Anaconda3\\lib\\site-packages\\sklearn\\model_selection\\_split.py:1978: FutureWarning: The default value of cv will change from 3 to 5 in version 0.22. Specify it explicitly to silence this warning.\n",
      "  warnings.warn(CV_WARNING, FutureWarning)\n",
      "[Parallel(n_jobs=1)]: Using backend SequentialBackend with 1 concurrent workers.\n"
     ]
    },
    {
     "name": "stdout",
     "output_type": "stream",
     "text": [
      "Fitting 3 folds for each of 24 candidates, totalling 72 fits\n",
      "Best Parameters:\n",
      " {'C': 10, 'gamma': 0.1}\n",
      "Best Estimators:\n",
      " SVC(C=10, cache_size=200, class_weight=None, coef0=0.0,\n",
      "    decision_function_shape='ovr', degree=3, gamma=0.1, kernel='rbf',\n",
      "    max_iter=-1, probability=False, random_state=None, shrinking=True,\n",
      "    tol=0.001, verbose=False)\n"
     ]
    },
    {
     "name": "stderr",
     "output_type": "stream",
     "text": [
      "[Parallel(n_jobs=1)]: Done  72 out of  72 | elapsed:    0.6s finished\n",
      "C:\\Users\\boliv\\Anaconda3\\lib\\site-packages\\sklearn\\model_selection\\_search.py:813: DeprecationWarning: The default of the `iid` parameter will change from True to False in version 0.22 and will be removed in 0.24. This will change numeric results when test-set sizes are unequal.\n",
      "  DeprecationWarning)\n"
     ]
    }
   ],
   "source": [
    "# Se buscan los mejores parámetros para los conjuntos de entrenamiento\n",
    "clf_grid.fit(X_train, y_train)\n",
    "\n",
    "print(\"Best Parameters:\\n\", clf_grid.best_params_)\n",
    "print(\"Best Estimators:\\n\", clf_grid.best_estimator_)"
   ]
  },
  {
   "cell_type": "code",
   "execution_count": 11,
   "metadata": {},
   "outputs": [
    {
     "data": {
      "text/plain": [
       "SVC(C=10, cache_size=200, class_weight=None, coef0=0.0,\n",
       "    decision_function_shape='ovr', degree=3, gamma=0.1, kernel='rbf',\n",
       "    max_iter=-1, probability=False, random_state=None, shrinking=True,\n",
       "    tol=0.001, verbose=False)"
      ]
     },
     "execution_count": 11,
     "metadata": {},
     "output_type": "execute_result"
    }
   ],
   "source": [
    "#Se ajusta el clasificador con los mejores parámetros encontrados\n",
    "clf = svm.SVC(kernel='rbf', C=10, gamma=0.1)\n",
    "clf.fit(X_train,y_train)"
   ]
  },
  {
   "cell_type": "code",
   "execution_count": 12,
   "metadata": {},
   "outputs": [
    {
     "name": "stdout",
     "output_type": "stream",
     "text": [
      "Accuracy: 98.80952380952381%\n"
     ]
    }
   ],
   "source": [
    "# Se realizan las predicciones en conjuntos de prueba\n",
    "clf_predictions = clf.predict(X_test)\n",
    "print(\"Accuracy: {}%\".format(clf.score(X_test, y_test) * 100 ))"
   ]
  },
  {
   "cell_type": "markdown",
   "metadata": {},
   "source": [
    "#### Módulo CrossValidation"
   ]
  },
  {
   "cell_type": "code",
   "execution_count": 16,
   "metadata": {},
   "outputs": [
    {
     "name": "stdout",
     "output_type": "stream",
     "text": [
      "[0.69047619 0.54761905 0.76190476 0.61904762 0.73809524 0.71428571\n",
      " 0.45238095 0.5        0.92857143 0.42857143]\n",
      "Accuracy: 63.81% (+/- 0.30%)\n"
     ]
    }
   ],
   "source": [
    "from sklearn.model_selection import cross_val_score\n",
    "clf2 = svm.SVC(kernel='rbf', gamma='auto')\n",
    "\n",
    "# Separa los datos, ajusta el modelo, y calcula la precisión \"cv\" veces\n",
    "scores2 = cross_val_score(clf2, Array_SVM[:,0:91], Array_SVM[:,-1], cv=10)\n",
    "print(scores2)\n",
    "\n",
    "#Cálculo de la media de las predicciones obtenidas\n",
    "print(\"Accuracy: {0:.2F}%\".format((scores2.mean())*100),\"(+/- {0:0.2f}%)\".format(scores2.std() * 2))"
   ]
  },
  {
   "cell_type": "code",
   "execution_count": null,
   "metadata": {},
   "outputs": [],
   "source": [
    "#[0.88095238 0.78571429 0.97619048 0.71428571 0.95238095 0.71428571 0.54761905 0.64285714 0.9047619  0.5952381 ]"
   ]
  },
  {
   "cell_type": "code",
   "execution_count": null,
   "metadata": {},
   "outputs": [],
   "source": []
  },
  {
   "cell_type": "code",
   "execution_count": null,
   "metadata": {},
   "outputs": [],
   "source": []
  },
  {
   "cell_type": "code",
   "execution_count": null,
   "metadata": {},
   "outputs": [],
   "source": []
  },
  {
   "cell_type": "code",
   "execution_count": null,
   "metadata": {},
   "outputs": [],
   "source": []
  },
  {
   "cell_type": "code",
   "execution_count": null,
   "metadata": {},
   "outputs": [],
   "source": []
  }
 ],
 "metadata": {
  "kernelspec": {
   "display_name": "Python 3",
   "language": "python",
   "name": "python3"
  },
  "language_info": {
   "codemirror_mode": {
    "name": "ipython",
    "version": 3
   },
   "file_extension": ".py",
   "mimetype": "text/x-python",
   "name": "python",
   "nbconvert_exporter": "python",
   "pygments_lexer": "ipython3",
   "version": "3.7.3"
  }
 },
 "nbformat": 4,
 "nbformat_minor": 4
}
